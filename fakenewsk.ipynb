{
 "cells": [
  {
   "metadata": {
    "ExecuteTime": {
     "end_time": "2025-10-20T13:23:49.260396Z",
     "start_time": "2025-10-20T13:23:12.984864Z"
    }
   },
   "cell_type": "code",
   "source": [
    "import os\n",
    "import random\n",
    "from collections import Counter\n",
    "\n",
    "import numpy as np\n",
    "import pandas as pd\n",
    "\n",
    "import matplotlib.pyplot as plt\n",
    "import seaborn as sns\n",
    "\n",
    "from sklearn.model_selection import KFold\n",
    "from sklearn.preprocessing import LabelEncoder\n",
    "from sklearn.utils.class_weight import compute_class_weight\n",
    "from sklearn.feature_extraction.text import TfidfVectorizer\n",
    "from sklearn.pipeline import Pipeline\n",
    "from sklearn.linear_model import LogisticRegression\n",
    "from sklearn.metrics import (\n",
    "    classification_report,\n",
    "    accuracy_score,\n",
    "    f1_score,\n",
    "    precision_recall_fscore_support,\n",
    ")\n",
    "\n",
    "import tensorflow as tf\n",
    "from tensorflow.keras.preprocessing.text import Tokenizer\n",
    "from tensorflow.keras.preprocessing.sequence import pad_sequences\n",
    "from tensorflow.keras.models import Sequential\n",
    "from tensorflow.keras.layers import Embedding, LSTM, Dense, Dropout\n",
    "from tensorflow.keras.callbacks import EarlyStopping\n",
    "\n",
    "import torch\n",
    "from torch.nn import CrossEntropyLoss\n",
    "from torch.utils.data import Dataset\n",
    "from transformers import AutoTokenizer, AutoModelForSequenceClassification, Trainer, TrainingArguments\n",
    "\n",
    "SEED = 42\n",
    "random.seed(SEED)\n",
    "np.random.seed(SEED)\n",
    "tf.random.set_seed(SEED)\n",
    "try:\n",
    "    torch.manual_seed(SEED)\n",
    "except Exception:\n",
    "    pass"
   ],
   "id": "b367a233be325131",
   "outputs": [
    {
     "name": "stdout",
     "output_type": "stream",
     "text": [
      "WARNING:tensorflow:From D:\\python\\lib\\site-packages\\tf_keras\\src\\losses.py:2976: The name tf.losses.sparse_softmax_cross_entropy is deprecated. Please use tf.compat.v1.losses.sparse_softmax_cross_entropy instead.\n",
      "\n"
     ]
    }
   ],
   "execution_count": 4
  },
  {
   "metadata": {
    "ExecuteTime": {
     "end_time": "2025-10-20T13:17:43.836485Z",
     "start_time": "2025-10-20T13:16:55.368954Z"
    }
   },
   "cell_type": "code",
   "source": [
    "train_df = pd.read_csv('train.tsv', sep='\\t', header=None)\n",
    "valid_df = pd.read_csv('valid.tsv', sep='\\t', header=None)\n",
    "test_df = pd.read_csv('test.tsv', sep='\\t', header=None)\n",
    "\n",
    "cols = ['id', 'label', 'statement', 'subject', 'speaker', 'job', 'state', 'party',\n",
    "        'barely_true_counts', 'false_counts', 'half_true_counts',\n",
    "        'mostly_true_counts', 'pants_on_fire_counts', 'context']\n",
    "\n",
    "train_df.columns = valid_df.columns = test_df.columns = cols\n",
    "\n",
    "data = pd.concat([train_df, valid_df])\n",
    "\n",
    "X = data['statement'].astype(str)\n",
    "y = data['label']\n",
    "\n",
    "encoder = LabelEncoder()\n",
    "y_encoded = encoder.fit_transform(y)\n",
    "\n",
    "tokenizer = Tokenizer(num_words=10000, oov_token=\"<OOV>\")\n",
    "tokenizer.fit_on_texts(X)\n",
    "X_seq = tokenizer.texts_to_sequences(X)\n",
    "X_padded = pad_sequences(X_seq, maxlen=40, padding='post', truncating='post')\n",
    "\n",
    "# ====== 4. Крос-валідація ======\n",
    "kf = KFold(n_splits=3, shuffle=True, random_state=42)\n",
    "fold_acc = []\n",
    "\n",
    "for train_index, val_index in kf.split(X_padded):\n",
    "    X_train, X_val = X_padded[train_index], X_padded[val_index]\n",
    "    y_train, y_val = y_encoded[train_index], y_encoded[val_index]\n",
    "\n",
    "    model = Sequential([\n",
    "        Embedding(10000, 64, input_length=40),\n",
    "        LSTM(64, dropout=0.2, recurrent_dropout=0.2),\n",
    "        Dense(32, activation='relu'),\n",
    "        Dropout(0.3),\n",
    "        Dense(len(encoder.classes_), activation='softmax')\n",
    "    ])\n",
    "\n",
    "    model.compile(loss='sparse_categorical_crossentropy', optimizer='adam', metrics=['accuracy'])\n",
    "    model.fit(X_train, y_train, epochs=3, batch_size=64, validation_data=(X_val, y_val), verbose=1)\n",
    "\n",
    "    val_acc = model.evaluate(X_val, y_val, verbose=0)[1]\n",
    "    fold_acc.append(val_acc)\n",
    "\n",
    "print(f\"Average LSTM accuracy from 3-fold CV: {np.mean(fold_acc):.3f}\")\n"
   ],
   "id": "2a55282e3b23ffd8",
   "outputs": [
    {
     "name": "stderr",
     "output_type": "stream",
     "text": [
      "D:\\python\\lib\\site-packages\\keras\\src\\layers\\core\\embedding.py:97: UserWarning: Argument `input_length` is deprecated. Just remove it.\n",
      "  warnings.warn(\n"
     ]
    },
    {
     "name": "stdout",
     "output_type": "stream",
     "text": [
      "Epoch 1/3\n",
      "\u001B[1m121/121\u001B[0m \u001B[32m━━━━━━━━━━━━━━━━━━━━\u001B[0m\u001B[37m\u001B[0m \u001B[1m7s\u001B[0m 27ms/step - accuracy: 0.1999 - loss: 1.7742 - val_accuracy: 0.2119 - val_loss: 1.7557\n",
      "Epoch 2/3\n",
      "\u001B[1m121/121\u001B[0m \u001B[32m━━━━━━━━━━━━━━━━━━━━\u001B[0m\u001B[37m\u001B[0m \u001B[1m3s\u001B[0m 24ms/step - accuracy: 0.1979 - loss: 1.7648 - val_accuracy: 0.2225 - val_loss: 1.7544\n",
      "Epoch 3/3\n",
      "\u001B[1m121/121\u001B[0m \u001B[32m━━━━━━━━━━━━━━━━━━━━\u001B[0m\u001B[37m\u001B[0m \u001B[1m3s\u001B[0m 25ms/step - accuracy: 0.2062 - loss: 1.7640 - val_accuracy: 0.2108 - val_loss: 1.7508\n",
      "Epoch 1/3\n",
      "\u001B[1m121/121\u001B[0m \u001B[32m━━━━━━━━━━━━━━━━━━━━\u001B[0m\u001B[37m\u001B[0m \u001B[1m6s\u001B[0m 28ms/step - accuracy: 0.1929 - loss: 1.7719 - val_accuracy: 0.2065 - val_loss: 1.7670\n",
      "Epoch 2/3\n",
      "\u001B[1m121/121\u001B[0m \u001B[32m━━━━━━━━━━━━━━━━━━━━\u001B[0m\u001B[37m\u001B[0m \u001B[1m3s\u001B[0m 21ms/step - accuracy: 0.1925 - loss: 1.7639 - val_accuracy: 0.1966 - val_loss: 1.7660\n",
      "Epoch 3/3\n",
      "\u001B[1m121/121\u001B[0m \u001B[32m━━━━━━━━━━━━━━━━━━━━\u001B[0m\u001B[37m\u001B[0m \u001B[1m3s\u001B[0m 22ms/step - accuracy: 0.2007 - loss: 1.7608 - val_accuracy: 0.1966 - val_loss: 1.7656\n",
      "Epoch 1/3\n",
      "\u001B[1m121/121\u001B[0m \u001B[32m━━━━━━━━━━━━━━━━━━━━\u001B[0m\u001B[37m\u001B[0m \u001B[1m6s\u001B[0m 24ms/step - accuracy: 0.1965 - loss: 1.7721 - val_accuracy: 0.2065 - val_loss: 1.7582\n",
      "Epoch 2/3\n",
      "\u001B[1m121/121\u001B[0m \u001B[32m━━━━━━━━━━━━━━━━━━━━\u001B[0m\u001B[37m\u001B[0m \u001B[1m3s\u001B[0m 21ms/step - accuracy: 0.1959 - loss: 1.7615 - val_accuracy: 0.1963 - val_loss: 1.7586\n",
      "Epoch 3/3\n",
      "\u001B[1m121/121\u001B[0m \u001B[32m━━━━━━━━━━━━━━━━━━━━\u001B[0m\u001B[37m\u001B[0m \u001B[1m2s\u001B[0m 20ms/step - accuracy: 0.2068 - loss: 1.7607 - val_accuracy: 0.2169 - val_loss: 1.7558\n",
      "Average LSTM accuracy from 3-fold CV: 0.208\n"
     ]
    }
   ],
   "execution_count": 1
  },
  {
   "metadata": {
    "ExecuteTime": {
     "end_time": "2025-10-20T13:17:44.293266Z",
     "start_time": "2025-10-20T13:17:43.870004Z"
    }
   },
   "cell_type": "code",
   "source": [
    "print(f\"Train set: {train_df.shape}\")\n",
    "print(f\"Validation set: {valid_df.shape}\")\n",
    "print(f\"Test set: {test_df.shape}\")\n",
    "\n",
    "plt.figure(figsize=(10, 6))\n",
    "train_df['label'].value_counts().plot(kind='bar')\n",
    "plt.title('Distribution of Truth Labels in Training Data')\n",
    "plt.xlabel('Label')\n",
    "plt.ylabel('Count')\n",
    "plt.show()\n",
    "\n",
    "train_df.head()"
   ],
   "id": "157ae3aa300a6b6e",
   "outputs": [
    {
     "name": "stdout",
     "output_type": "stream",
     "text": [
      "Train set: (10240, 14)\n",
      "Validation set: (1284, 14)\n",
      "Test set: (1267, 14)\n"
     ]
    },
    {
     "data": {
      "text/plain": [
       "<Figure size 1000x600 with 1 Axes>"
      ],
      "image/png": "[encoded data removed]"
     },
     "metadata": {},
     "output_type": "display_data"
    },
    {
     "data": {
      "text/plain": [
       "         file        label                                          statement  \\\n",
       "0   2635.json        false  Says the Annies List political group supports ...   \n",
       "1  10540.json    half-true  When did the decline of coal start? It started...   \n",
       "2    324.json  mostly-true  Hillary Clinton agrees with John McCain \"by vo...   \n",
       "3   1123.json        false  Health care reform legislation is likely to ma...   \n",
       "4   9028.json    half-true  The economic turnaround started at the end of ...   \n",
       "\n",
       "                              subject         speaker             job_title  \\\n",
       "0                            abortion    dwayne-bohac  State representative   \n",
       "1  energy,history,job-accomplishments  scott-surovell        State delegate   \n",
       "2                      foreign-policy    barack-obama             President   \n",
       "3                         health-care    blog-posting                   NaN   \n",
       "4                        economy,jobs   charlie-crist                   NaN   \n",
       "\n",
       "      state       party  barely_true_counts  false_counts  half_true_counts  \\\n",
       "0     Texas  republican                 0.0           1.0               0.0   \n",
       "1  Virginia    democrat                 0.0           0.0               1.0   \n",
       "2  Illinois    democrat                70.0          71.0             160.0   \n",
       "3       NaN        none                 7.0          19.0               3.0   \n",
       "4   Florida    democrat                15.0           9.0              20.0   \n",
       "\n",
       "   mostly_true_counts  pants_on_fire_counts              context  \n",
       "0                 0.0                   0.0             a mailer  \n",
       "1                 1.0                   0.0      a floor speech.  \n",
       "2               163.0                   9.0               Denver  \n",
       "3                 5.0                  44.0       a news release  \n",
       "4                19.0                   2.0  an interview on CNN  "
      ],
      "text/html": [
       "<div>\n",
       "<style scoped>\n",
       "    .dataframe tbody tr th:only-of-type {\n",
       "        vertical-align: middle;\n",
       "    }\n",
       "\n",
       "    .dataframe tbody tr th {\n",
       "        vertical-align: top;\n",
       "    }\n",
       "\n",
       "    .dataframe thead th {\n",
       "        text-align: right;\n",
       "    }\n",
       "</style>\n",
       "<table border=\"1\" class=\"dataframe\">\n",
       "  <thead>\n",
       "    <tr style=\"text-align: right;\">\n",
       "      <th></th>\n",
       "      <th>file</th>\n",
       "      <th>label</th>\n",
       "      <th>statement</th>\n",
       "      <th>subject</th>\n",
       "      <th>speaker</th>\n",
       "      <th>job_title</th>\n",
       "      <th>state</th>\n",
       "      <th>party</th>\n",
       "      <th>barely_true_counts</th>\n",
       "      <th>false_counts</th>\n",
       "      <th>half_true_counts</th>\n",
       "      <th>mostly_true_counts</th>\n",
       "      <th>pants_on_fire_counts</th>\n",
       "      <th>context</th>\n",
       "    </tr>\n",
       "  </thead>\n",
       "  <tbody>\n",
       "    <tr>\n",
       "      <th>0</th>\n",
       "      <td>2635.json</td>\n",
       "      <td>false</td>\n",
       "      <td>Says the Annies List political group supports ...</td>\n",
       "      <td>abortion</td>\n",
       "      <td>dwayne-bohac</td>\n",
       "      <td>State representative</td>\n",
       "      <td>Texas</td>\n",
       "      <td>republican</td>\n",
       "      <td>0.0</td>\n",
       "      <td>1.0</td>\n",
       "      <td>0.0</td>\n",
       "      <td>0.0</td>\n",
       "      <td>0.0</td>\n",
       "      <td>a mailer</td>\n",
       "    </tr>\n",
       "    <tr>\n",
       "      <th>1</th>\n",
       "      <td>10540.json</td>\n",
       "      <td>half-true</td>\n",
       "      <td>When did the decline of coal start? It started...</td>\n",
       "      <td>energy,history,job-accomplishments</td>\n",
       "      <td>scott-surovell</td>\n",
       "      <td>State delegate</td>\n",
       "      <td>Virginia</td>\n",
       "      <td>democrat</td>\n",
       "      <td>0.0</td>\n",
       "      <td>0.0</td>\n",
       "      <td>1.0</td>\n",
       "      <td>1.0</td>\n",
       "      <td>0.0</td>\n",
       "      <td>a floor speech.</td>\n",
       "    </tr>\n",
       "    <tr>\n",
       "      <th>2</th>\n",
       "      <td>324.json</td>\n",
       "      <td>mostly-true</td>\n",
       "      <td>Hillary Clinton agrees with John McCain \"by vo...</td>\n",
       "      <td>foreign-policy</td>\n",
       "      <td>barack-obama</td>\n",
       "      <td>President</td>\n",
       "      <td>Illinois</td>\n",
       "      <td>democrat</td>\n",
       "      <td>70.0</td>\n",
       "      <td>71.0</td>\n",
       "      <td>160.0</td>\n",
       "      <td>163.0</td>\n",
       "      <td>9.0</td>\n",
       "      <td>Denver</td>\n",
       "    </tr>\n",
       "    <tr>\n",
       "      <th>3</th>\n",
       "      <td>1123.json</td>\n",
       "      <td>false</td>\n",
       "      <td>Health care reform legislation is likely to ma...</td>\n",
       "      <td>health-care</td>\n",
       "      <td>blog-posting</td>\n",
       "      <td>NaN</td>\n",
       "      <td>NaN</td>\n",
       "      <td>none</td>\n",
       "      <td>7.0</td>\n",
       "      <td>19.0</td>\n",
       "      <td>3.0</td>\n",
       "      <td>5.0</td>\n",
       "      <td>44.0</td>\n",
       "      <td>a news release</td>\n",
       "    </tr>\n",
       "    <tr>\n",
       "      <th>4</th>\n",
       "      <td>9028.json</td>\n",
       "      <td>half-true</td>\n",
       "      <td>The economic turnaround started at the end of ...</td>\n",
       "      <td>economy,jobs</td>\n",
       "      <td>charlie-crist</td>\n",
       "      <td>NaN</td>\n",
       "      <td>Florida</td>\n",
       "      <td>democrat</td>\n",
       "      <td>15.0</td>\n",
       "      <td>9.0</td>\n",
       "      <td>20.0</td>\n",
       "      <td>19.0</td>\n",
       "      <td>2.0</td>\n",
       "      <td>an interview on CNN</td>\n",
       "    </tr>\n",
       "  </tbody>\n",
       "</table>\n",
       "</div>"
      ]
     },
     "execution_count": 2,
     "metadata": {},
     "output_type": "execute_result"
    }
   ],
   "execution_count": 2
  },
  {
   "metadata": {
    "ExecuteTime": {
     "end_time": "2025-10-20T13:19:22.371234Z",
     "start_time": "2025-10-20T13:17:59.163323Z"
    }
   },
   "cell_type": "code",
   "source": [
    "binary_label_map = {\n",
    "    'pants-fire': 0,\n",
    "    'false': 0,\n",
    "    'barely-true': 0,\n",
    "    'half-true': 0,\n",
    "    'mostly-true': 1,\n",
    "    'true': 1\n",
    "}\n",
    "\n",
    "train_df['binary_label'] = train_df['label'].map(binary_label_map)\n",
    "valid_df['binary_label'] = valid_df['label'].map(binary_label_map)\n",
    "test_df['binary_label']  = test_df['label'].map(binary_label_map)\n",
    "\n",
    "X_train_texts = train_df['statement'].astype(str).tolist()\n",
    "y_train = np.array(train_df['binary_label'].astype(int).tolist())\n",
    "\n",
    "X_val_texts = valid_df['statement'].astype(str).tolist()\n",
    "y_val = np.array(valid_df['binary_label'].astype(int).tolist())\n",
    "\n",
    "X_test_texts = test_df['statement'].astype(str).tolist()\n",
    "y_test = np.array(test_df['binary_label'].astype(int).tolist())\n",
    "\n",
    "VOCAB_SIZE = 20000\n",
    "MAX_LEN = 80\n",
    "\n",
    "tokenizer = Tokenizer(num_words=VOCAB_SIZE, oov_token=\"<OOV>\")\n",
    "tokenizer.fit_on_texts(X_train_texts)  # fit on train only\n",
    "X_train_seq = tokenizer.texts_to_sequences(X_train_texts)\n",
    "X_val_seq   = tokenizer.texts_to_sequences(X_val_texts)\n",
    "X_test_seq  = tokenizer.texts_to_sequences(X_test_texts)\n",
    "\n",
    "X_train_pad = pad_sequences(X_train_seq, maxlen=MAX_LEN, padding='post', truncating='post')\n",
    "X_val_pad   = pad_sequences(X_val_seq,   maxlen=MAX_LEN, padding='post', truncating='post')\n",
    "X_test_pad  = pad_sequences(X_test_seq,  maxlen=MAX_LEN, padding='post', truncating='post')\n",
    "\n",
    "classes = np.unique(y_train)\n",
    "cw = compute_class_weight(class_weight='balanced', classes=classes, y=y_train)\n",
    "class_weight = {int(c): float(w) for c, w in zip(classes, cw)}\n",
    "print(\"Train label counts:\", np.unique(y_train, return_counts=True))\n",
    "print(\"Class weight mapping:\", class_weight)\n",
    "\n",
    "EMBED_DIM = 128\n",
    "LSTM_UNITS = 128\n",
    "\n",
    "model = Sequential([\n",
    "    Embedding(input_dim=VOCAB_SIZE, output_dim=EMBED_DIM, input_length=MAX_LEN),\n",
    "    LSTM(LSTM_UNITS, dropout=0.2, recurrent_dropout=0.2),\n",
    "    Dense(64, activation='relu'),\n",
    "    Dropout(0.3),\n",
    "    Dense(1, activation='sigmoid')   # binary\n",
    "])\n",
    "\n",
    "model.compile(loss='binary_crossentropy', optimizer='adam', metrics=['accuracy'])\n",
    "model.summary()\n",
    "\n",
    "callbacks = [EarlyStopping(monitor='val_loss', patience=3, restore_best_weights=True)]\n",
    "history = model.fit(\n",
    "    X_train_pad, y_train,\n",
    "    validation_data=(X_val_pad, y_val),\n",
    "    epochs=10,\n",
    "    batch_size=64,\n",
    "    class_weight=class_weight,\n",
    "    callbacks=callbacks,\n",
    "    verbose=2\n",
    ")\n",
    "\n",
    "val_probs = model.predict(X_val_pad, batch_size=256, verbose=0).flatten()\n",
    "best_t, best_f1 = 0.5, 0.0\n",
    "for t in np.linspace(0.1, 0.9, 17):\n",
    "    preds = (val_probs >= t).astype(int)\n",
    "    f = f1_score(y_val, preds, average='binary')\n",
    "    if f > best_f1:\n",
    "        best_f1, best_t = f, t\n",
    "print(f\"Best val F1 {best_f1:.4f} at threshold {best_t:.2f}\")\n",
    "\n",
    "test_probs = model.predict(X_test_pad, batch_size=256, verbose=0).flatten()\n",
    "test_preds = (test_probs >= best_t).astype(int)\n",
    "\n",
    "print(\"Test classification report:\")\n",
    "print(classification_report(y_test, test_preds, digits=4))\n",
    "\n",
    "print(f\"Overall F1 (binary / micro / macro / weighted):\")\n",
    "print(f\"  binary   : {f1_score(y_test, test_preds, average='binary'):.4f}\")\n",
    "print(f\"  micro    : {f1_score(y_test, test_preds, average='micro'):.4f}\")\n",
    "print(f\"  macro    : {f1_score(y_test, test_preds, average='macro'):.4f}\")\n",
    "print(f\"  weighted : {f1_score(y_test, test_preds, average='weighted'):.4f}\")"
   ],
   "id": "f6f9b14107510e36",
   "outputs": [
    {
     "name": "stdout",
     "output_type": "stream",
     "text": [
      "Train label counts: (array([0, 1]), array([6602, 3638], dtype=int64))\n",
      "Class weight mapping: {0: 0.7755225689185096, 1: 1.4073666849917537}\n"
     ]
    },
    {
     "name": "stderr",
     "output_type": "stream",
     "text": [
      "D:\\python\\lib\\site-packages\\keras\\src\\layers\\core\\embedding.py:97: UserWarning: Argument `input_length` is deprecated. Just remove it.\n",
      "  warnings.warn(\n"
     ]
    },
    {
     "data": {
      "text/plain": [
       "\u001B[1mModel: \"sequential_3\"\u001B[0m\n"
      ],
      "text/html": [
       "<pre style=\"white-space:pre;overflow-x:auto;line-height:normal;font-family:Menlo,'DejaVu Sans Mono',consolas,'Courier New',monospace\"><span style=\"font-weight: bold\">Model: \"sequential_3\"</span>\n",
       "</pre>\n"
      ]
     },
     "metadata": {},
     "output_type": "display_data"
    },
    {
     "data": {
      "text/plain": [
       "┏━━━━━━━━━━━━━━━━━━━━━━━━━━━━━━━━━┳━━━━━━━━━━━━━━━━━━━━━━━━┳━━━━━━━━━━━━━━━┓\n",
       "┃\u001B[1m \u001B[0m\u001B[1mLayer (type)                   \u001B[0m\u001B[1m \u001B[0m┃\u001B[1m \u001B[0m\u001B[1mOutput Shape          \u001B[0m\u001B[1m \u001B[0m┃\u001B[1m \u001B[0m\u001B[1m      Param #\u001B[0m\u001B[1m \u001B[0m┃\n",
       "┡━━━━━━━━━━━━━━━━━━━━━━━━━━━━━━━━━╇━━━━━━━━━━━━━━━━━━━━━━━━╇━━━━━━━━━━━━━━━┩\n",
       "│ embedding_3 (\u001B[38;5;33mEmbedding\u001B[0m)         │ ?                      │   \u001B[38;5;34m0\u001B[0m (unbuilt) │\n",
       "├─────────────────────────────────┼────────────────────────┼───────────────┤\n",
       "│ lstm_3 (\u001B[38;5;33mLSTM\u001B[0m)                   │ ?                      │   \u001B[38;5;34m0\u001B[0m (unbuilt) │\n",
       "├─────────────────────────────────┼────────────────────────┼───────────────┤\n",
       "│ dense_6 (\u001B[38;5;33mDense\u001B[0m)                 │ ?                      │   \u001B[38;5;34m0\u001B[0m (unbuilt) │\n",
       "├─────────────────────────────────┼────────────────────────┼───────────────┤\n",
       "│ dropout_3 (\u001B[38;5;33mDropout\u001B[0m)             │ ?                      │             \u001B[38;5;34m0\u001B[0m │\n",
       "├─────────────────────────────────┼────────────────────────┼───────────────┤\n",
       "│ dense_7 (\u001B[38;5;33mDense\u001B[0m)                 │ ?                      │   \u001B[38;5;34m0\u001B[0m (unbuilt) │\n",
       "└─────────────────────────────────┴────────────────────────┴───────────────┘\n"
      ],
      "text/html": [
       "<pre style=\"white-space:pre;overflow-x:auto;line-height:normal;font-family:Menlo,'DejaVu Sans Mono',consolas,'Courier New',monospace\">┏━━━━━━━━━━━━━━━━━━━━━━━━━━━━━━━━━┳━━━━━━━━━━━━━━━━━━━━━━━━┳━━━━━━━━━━━━━━━┓\n",
       "┃<span style=\"font-weight: bold\"> Layer (type)                    </span>┃<span style=\"font-weight: bold\"> Output Shape           </span>┃<span style=\"font-weight: bold\">       Param # </span>┃\n",
       "┡━━━━━━━━━━━━━━━━━━━━━━━━━━━━━━━━━╇━━━━━━━━━━━━━━━━━━━━━━━━╇━━━━━━━━━━━━━━━┩\n",
       "│ embedding_3 (<span style=\"color: #0087ff; text-decoration-color: #0087ff\">Embedding</span>)         │ ?                      │   <span style=\"color: #00af00; text-decoration-color: #00af00\">0</span> (unbuilt) │\n",
       "├─────────────────────────────────┼────────────────────────┼───────────────┤\n",
       "│ lstm_3 (<span style=\"color: #0087ff; text-decoration-color: #0087ff\">LSTM</span>)                   │ ?                      │   <span style=\"color: #00af00; text-decoration-color: #00af00\">0</span> (unbuilt) │\n",
       "├─────────────────────────────────┼────────────────────────┼───────────────┤\n",
       "│ dense_6 (<span style=\"color: #0087ff; text-decoration-color: #0087ff\">Dense</span>)                 │ ?                      │   <span style=\"color: #00af00; text-decoration-color: #00af00\">0</span> (unbuilt) │\n",
       "├─────────────────────────────────┼────────────────────────┼───────────────┤\n",
       "│ dropout_3 (<span style=\"color: #0087ff; text-decoration-color: #0087ff\">Dropout</span>)             │ ?                      │             <span style=\"color: #00af00; text-decoration-color: #00af00\">0</span> │\n",
       "├─────────────────────────────────┼────────────────────────┼───────────────┤\n",
       "│ dense_7 (<span style=\"color: #0087ff; text-decoration-color: #0087ff\">Dense</span>)                 │ ?                      │   <span style=\"color: #00af00; text-decoration-color: #00af00\">0</span> (unbuilt) │\n",
       "└─────────────────────────────────┴────────────────────────┴───────────────┘\n",
       "</pre>\n"
      ]
     },
     "metadata": {},
     "output_type": "display_data"
    },
    {
     "data": {
      "text/plain": [
       "\u001B[1m Total params: \u001B[0m\u001B[38;5;34m0\u001B[0m (0.00 B)\n"
      ],
      "text/html": [
       "<pre style=\"white-space:pre;overflow-x:auto;line-height:normal;font-family:Menlo,'DejaVu Sans Mono',consolas,'Courier New',monospace\"><span style=\"font-weight: bold\"> Total params: </span><span style=\"color: #00af00; text-decoration-color: #00af00\">0</span> (0.00 B)\n",
       "</pre>\n"
      ]
     },
     "metadata": {},
     "output_type": "display_data"
    },
    {
     "data": {
      "text/plain": [
       "\u001B[1m Trainable params: \u001B[0m\u001B[38;5;34m0\u001B[0m (0.00 B)\n"
      ],
      "text/html": [
       "<pre style=\"white-space:pre;overflow-x:auto;line-height:normal;font-family:Menlo,'DejaVu Sans Mono',consolas,'Courier New',monospace\"><span style=\"font-weight: bold\"> Trainable params: </span><span style=\"color: #00af00; text-decoration-color: #00af00\">0</span> (0.00 B)\n",
       "</pre>\n"
      ]
     },
     "metadata": {},
     "output_type": "display_data"
    },
    {
     "data": {
      "text/plain": [
       "\u001B[1m Non-trainable params: \u001B[0m\u001B[38;5;34m0\u001B[0m (0.00 B)\n"
      ],
      "text/html": [
       "<pre style=\"white-space:pre;overflow-x:auto;line-height:normal;font-family:Menlo,'DejaVu Sans Mono',consolas,'Courier New',monospace\"><span style=\"font-weight: bold\"> Non-trainable params: </span><span style=\"color: #00af00; text-decoration-color: #00af00\">0</span> (0.00 B)\n",
       "</pre>\n"
      ]
     },
     "metadata": {},
     "output_type": "display_data"
    },
    {
     "name": "stdout",
     "output_type": "stream",
     "text": [
      "Epoch 1/10\n",
      "160/160 - 16s - 98ms/step - accuracy: 0.4946 - loss: 0.6940 - val_accuracy: 0.6729 - val_loss: 0.6917\n",
      "Epoch 2/10\n",
      "160/160 - 9s - 57ms/step - accuracy: 0.4826 - loss: 0.6936 - val_accuracy: 0.6729 - val_loss: 0.6908\n",
      "Epoch 3/10\n",
      "160/160 - 11s - 69ms/step - accuracy: 0.5282 - loss: 0.6934 - val_accuracy: 0.6729 - val_loss: 0.6925\n",
      "Epoch 4/10\n",
      "160/160 - 9s - 57ms/step - accuracy: 0.4768 - loss: 0.6932 - val_accuracy: 0.6729 - val_loss: 0.6927\n",
      "Epoch 5/10\n",
      "160/160 - 10s - 64ms/step - accuracy: 0.5145 - loss: 0.6937 - val_accuracy: 0.6729 - val_loss: 0.6903\n",
      "Epoch 6/10\n",
      "160/160 - 9s - 56ms/step - accuracy: 0.5211 - loss: 0.6933 - val_accuracy: 0.3271 - val_loss: 0.6940\n",
      "Epoch 7/10\n",
      "160/160 - 9s - 54ms/step - accuracy: 0.4363 - loss: 0.6932 - val_accuracy: 0.3271 - val_loss: 0.6938\n",
      "Epoch 8/10\n",
      "160/160 - 9s - 55ms/step - accuracy: 0.4375 - loss: 0.6931 - val_accuracy: 0.3271 - val_loss: 0.6935\n",
      "Best val F1 0.4930 at threshold 0.10\n",
      "Test classification report:\n",
      "              precision    recall  f1-score   support\n",
      "\n",
      "           0     0.0000    0.0000    0.0000       818\n",
      "           1     0.3544    1.0000    0.5233       449\n",
      "\n",
      "    accuracy                         0.3544      1267\n",
      "   macro avg     0.1772    0.5000    0.2617      1267\n",
      "weighted avg     0.1256    0.3544    0.1855      1267\n",
      "\n",
      "Overall F1 (binary / micro / macro / weighted):\n",
      "  binary   : 0.5233\n",
      "  micro    : 0.3544\n",
      "  macro    : 0.2617\n",
      "  weighted : 0.1855\n"
     ]
    },
    {
     "name": "stderr",
     "output_type": "stream",
     "text": [
      "D:\\python\\lib\\site-packages\\sklearn\\metrics\\_classification.py:1565: UndefinedMetricWarning: Precision is ill-defined and being set to 0.0 in labels with no predicted samples. Use `zero_division` parameter to control this behavior.\n",
      "  _warn_prf(average, modifier, f\"{metric.capitalize()} is\", len(result))\n",
      "D:\\python\\lib\\site-packages\\sklearn\\metrics\\_classification.py:1565: UndefinedMetricWarning: Precision is ill-defined and being set to 0.0 in labels with no predicted samples. Use `zero_division` parameter to control this behavior.\n",
      "  _warn_prf(average, modifier, f\"{metric.capitalize()} is\", len(result))\n",
      "D:\\python\\lib\\site-packages\\sklearn\\metrics\\_classification.py:1565: UndefinedMetricWarning: Precision is ill-defined and being set to 0.0 in labels with no predicted samples. Use `zero_division` parameter to control this behavior.\n",
      "  _warn_prf(average, modifier, f\"{metric.capitalize()} is\", len(result))\n"
     ]
    }
   ],
   "execution_count": 3
  },
  {
   "cell_type": "code",
   "execution_count": 20,
   "id": "a4ffaff9dc328508",
   "metadata": {
    "ExecuteTime": {
     "end_time": "2025-10-18T19:50:32.493562Z",
     "start_time": "2025-10-18T19:50:32.130532Z"
    }
   },
   "outputs": [
    {
     "name": "stdout",
     "output_type": "stream",
     "text": [
      "Validation accuracy: 0.660436137071651\n",
      "              precision    recall  f1-score   support\n",
      "\n",
      "           0       0.77      0.70      0.73       864\n",
      "           1       0.48      0.58      0.53       420\n",
      "\n",
      "    accuracy                           0.66      1284\n",
      "   macro avg       0.63      0.64      0.63      1284\n",
      "weighted avg       0.68      0.66      0.67      1284\n",
      "\n"
     ]
    }
   ],
   "source": [
    "def binarize_labels(df):\n",
    "    df['binary_label'] = df['label'].apply(lambda x: 1 if x in ['true', 'mostly-true'] else 0)\n",
    "    return df\n",
    "\n",
    "train_df = binarize_labels(train_df)\n",
    "valid_df = binarize_labels(valid_df)\n",
    "test_df = binarize_labels(test_df)\n",
    "\n",
    "pipeline = Pipeline([\n",
    "    ('tfidf', TfidfVectorizer(max_features=10000, ngram_range=(1,2))),\n",
    "    ('clf', LogisticRegression(max_iter=2000, class_weight='balanced', random_state=42))\n",
    "])\n",
    "\n",
    "\n",
    "pipeline.fit(train_df['statement'], train_df['binary_label'])\n",
    "\n",
    "valid_pred = pipeline.predict(valid_df['statement'])\n",
    "print(\"Validation accuracy:\", accuracy_score(valid_df['binary_label'], valid_pred))\n",
    "print(classification_report(valid_df['binary_label'], valid_pred))"
   ]
  },
  {
   "cell_type": "code",
   "execution_count": null,
   "id": "d9d643e78c072ed5",
   "metadata": {
    "ExecuteTime": {
     "end_time": "2025-10-19T05:42:09.518860Z",
     "start_time": "2025-10-19T05:14:38.707695Z"
    }
   },
   "outputs": [
    {
     "data": {
      "application/vnd.jupyter.widget-view+json": {
       "model_id": "064cfbf5bacc4e0880b22c6d7ca24c1f",
       "version_major": 2,
       "version_minor": 0
      },
      "text/plain": [
       "tokenizer_config.json:   0%|          | 0.00/48.0 [00:00<?, ?B/s]"
      ]
     },
     "metadata": {},
     "output_type": "display_data"
    },
    {
     "name": "stderr",
     "output_type": "stream",
     "text": [
      "c:\\Users\\38095\\AppData\\Local\\Programs\\Python\\Python311\\Lib\\site-packages\\huggingface_hub\\file_download.py:143: UserWarning: `huggingface_hub` cache-system uses symlinks by default to efficiently store duplicated files but your machine does not support them in C:\\Users\\38095\\.cache\\huggingface\\hub\\models--distilbert-base-uncased. Caching files will still work but in a degraded version that might require more space on your disk. This warning can be disabled by setting the `HF_HUB_DISABLE_SYMLINKS_WARNING` environment variable. For more details, see https://huggingface.co/docs/huggingface_hub/how-to-cache#limitations.\n",
      "To support symlinks on Windows, you either need to activate Developer Mode or to run Python as an administrator. In order to activate developer mode, see this article: https://docs.microsoft.com/en-us/windows/apps/get-started/enable-your-device-for-development\n",
      "  warnings.warn(message)\n"
     ]
    },
    {
     "data": {
      "application/vnd.jupyter.widget-view+json": {
       "model_id": "4fdaa8d2d17a4059bb1dea16ba45e839",
       "version_major": 2,
       "version_minor": 0
      },
      "text/plain": [
       "config.json:   0%|          | 0.00/483 [00:00<?, ?B/s]"
      ]
     },
     "metadata": {},
     "output_type": "display_data"
    },
    {
     "data": {
      "application/vnd.jupyter.widget-view+json": {
       "model_id": "255fd3e0be464748b1f7565d82893ad8",
       "version_major": 2,
       "version_minor": 0
      },
      "text/plain": [
       "vocab.txt:   0%|          | 0.00/232k [00:00<?, ?B/s]"
      ]
     },
     "metadata": {},
     "output_type": "display_data"
    },
    {
     "data": {
      "application/vnd.jupyter.widget-view+json": {
       "model_id": "7178bf93c0d74aff8c40ef2cf6706827",
       "version_major": 2,
       "version_minor": 0
      },
      "text/plain": [
       "tokenizer.json:   0%|          | 0.00/466k [00:00<?, ?B/s]"
      ]
     },
     "metadata": {},
     "output_type": "display_data"
    },
    {
     "name": "stderr",
     "output_type": "stream",
     "text": [
      "c:\\Users\\38095\\AppData\\Local\\Programs\\Python\\Python311\\Lib\\site-packages\\transformers\\tokenization_utils_base.py:1601: FutureWarning: `clean_up_tokenization_spaces` was not set. It will be set to `True` by default. This behavior will be depracted in transformers v4.45, and will be then set to `False` by default. For more details check this issue: https://github.com/huggingface/transformers/issues/31884\n",
      "  warnings.warn(\n",
      "Xet Storage is enabled for this repo, but the 'hf_xet' package is not installed. Falling back to regular HTTP download. For better performance, install the package with: `pip install huggingface_hub[hf_xet]` or `pip install hf_xet`\n"
     ]
    },
    {
     "data": {
      "application/vnd.jupyter.widget-view+json": {
       "model_id": "de3e7d575fbe4dd1868b4df60a0d4fc5",
       "version_major": 2,
       "version_minor": 0
      },
      "text/plain": [
       "model.safetensors:   0%|          | 0.00/268M [00:00<?, ?B/s]"
      ]
     },
     "metadata": {},
     "output_type": "display_data"
    },
    {
     "name": "stderr",
     "output_type": "stream",
     "text": [
      "Some weights of DistilBertForSequenceClassification were not initialized from the model checkpoint at distilbert-base-uncased and are newly initialized: ['classifier.bias', 'classifier.weight', 'pre_classifier.bias', 'pre_classifier.weight']\n",
      "You should probably TRAIN this model on a down-stream task to be able to use it for predictions and inference.\n"
     ]
    },
    {
     "data": {
      "application/vnd.jupyter.widget-view+json": {
       "model_id": "4af1831e927843c9856e4757b21ba17a",
       "version_major": 2,
       "version_minor": 0
      },
      "text/plain": [
       "  0%|          | 0/2163 [00:00<?, ?it/s]"
      ]
     },
     "metadata": {},
     "output_type": "display_data"
    },
    {
     "name": "stdout",
     "output_type": "stream",
     "text": [
      "{'loss': 0.6927, 'grad_norm': 1.2743430137634277, 'learning_rate': 1.25e-05, 'epoch': 0.07}\n",
      "{'loss': 0.6829, 'grad_norm': 1.707743763923645, 'learning_rate': 2.5e-05, 'epoch': 0.14}\n",
      "{'loss': 0.6749, 'grad_norm': 4.705739974975586, 'learning_rate': 3.7500000000000003e-05, 'epoch': 0.21}\n",
      "{'loss': 0.6631, 'grad_norm': 2.6045236587524414, 'learning_rate': 5e-05, 'epoch': 0.28}\n",
      "{'loss': 0.6741, 'grad_norm': 1.7820037603378296, 'learning_rate': 4.872643912379012e-05, 'epoch': 0.35}\n",
      "{'loss': 0.683, 'grad_norm': 1.5691293478012085, 'learning_rate': 4.745287824758024e-05, 'epoch': 0.42}\n",
      "{'loss': 0.6575, 'grad_norm': 1.9074976444244385, 'learning_rate': 4.6179317371370354e-05, 'epoch': 0.49}\n",
      "{'loss': 0.6662, 'grad_norm': 3.409620761871338, 'learning_rate': 4.490575649516047e-05, 'epoch': 0.55}\n",
      "{'loss': 0.6605, 'grad_norm': 1.77568519115448, 'learning_rate': 4.363219561895059e-05, 'epoch': 0.62}\n",
      "{'loss': 0.6708, 'grad_norm': 2.101933002471924, 'learning_rate': 4.2358634742740705e-05, 'epoch': 0.69}\n",
      "{'loss': 0.6618, 'grad_norm': 1.6476664543151855, 'learning_rate': 4.108507386653082e-05, 'epoch': 0.76}\n",
      "{'loss': 0.6657, 'grad_norm': 0.993973970413208, 'learning_rate': 3.981151299032094e-05, 'epoch': 0.83}\n",
      "{'loss': 0.6421, 'grad_norm': 1.6244908571243286, 'learning_rate': 3.853795211411106e-05, 'epoch': 0.9}\n",
      "{'loss': 0.6556, 'grad_norm': 2.3105852603912354, 'learning_rate': 3.7264391237901174e-05, 'epoch': 0.97}\n",
      "{'loss': 0.6483, 'grad_norm': 2.2794344425201416, 'learning_rate': 3.599083036169129e-05, 'epoch': 1.04}\n",
      "{'loss': 0.5758, 'grad_norm': 3.35367751121521, 'learning_rate': 3.471726948548141e-05, 'epoch': 1.11}\n",
      "{'loss': 0.5942, 'grad_norm': 2.4456582069396973, 'learning_rate': 3.3443708609271526e-05, 'epoch': 1.18}\n",
      "{'loss': 0.5665, 'grad_norm': 4.319635391235352, 'learning_rate': 3.217014773306164e-05, 'epoch': 1.25}\n",
      "{'loss': 0.5678, 'grad_norm': 5.562113285064697, 'learning_rate': 3.089658685685176e-05, 'epoch': 1.32}\n",
      "{'loss': 0.5677, 'grad_norm': 3.735039234161377, 'learning_rate': 2.9623025980641877e-05, 'epoch': 1.39}\n",
      "{'loss': 0.5669, 'grad_norm': 4.778990268707275, 'learning_rate': 2.8349465104431994e-05, 'epoch': 1.46}\n",
      "{'loss': 0.562, 'grad_norm': 2.7409985065460205, 'learning_rate': 2.707590422822211e-05, 'epoch': 1.53}\n",
      "{'loss': 0.5717, 'grad_norm': 3.9669976234436035, 'learning_rate': 2.5802343352012225e-05, 'epoch': 1.6}\n",
      "{'loss': 0.5734, 'grad_norm': 4.2942585945129395, 'learning_rate': 2.4528782475802346e-05, 'epoch': 1.66}\n",
      "{'loss': 0.5525, 'grad_norm': 4.776806354522705, 'learning_rate': 2.325522159959246e-05, 'epoch': 1.73}\n",
      "{'loss': 0.5575, 'grad_norm': 3.390960216522217, 'learning_rate': 2.198166072338258e-05, 'epoch': 1.8}\n",
      "{'loss': 0.5698, 'grad_norm': 3.26318621635437, 'learning_rate': 2.0708099847172697e-05, 'epoch': 1.87}\n",
      "{'loss': 0.571, 'grad_norm': 3.7832891941070557, 'learning_rate': 1.943453897096281e-05, 'epoch': 1.94}\n",
      "{'loss': 0.5462, 'grad_norm': 3.9451563358306885, 'learning_rate': 1.816097809475293e-05, 'epoch': 2.01}\n",
      "{'loss': 0.3531, 'grad_norm': 5.489273548126221, 'learning_rate': 1.688741721854305e-05, 'epoch': 2.08}\n",
      "{'loss': 0.366, 'grad_norm': 9.24970817565918, 'learning_rate': 1.5613856342333163e-05, 'epoch': 2.15}\n",
      "{'loss': 0.3615, 'grad_norm': 5.515717506408691, 'learning_rate': 1.4340295466123283e-05, 'epoch': 2.22}\n",
      "{'loss': 0.3471, 'grad_norm': 9.873224258422852, 'learning_rate': 1.3066734589913399e-05, 'epoch': 2.29}\n",
      "{'loss': 0.3575, 'grad_norm': 11.315240859985352, 'learning_rate': 1.1793173713703516e-05, 'epoch': 2.36}\n",
      "{'loss': 0.3241, 'grad_norm': 8.409242630004883, 'learning_rate': 1.0519612837493633e-05, 'epoch': 2.43}\n",
      "{'loss': 0.3548, 'grad_norm': 6.108985424041748, 'learning_rate': 9.24605196128375e-06, 'epoch': 2.5}\n",
      "{'loss': 0.348, 'grad_norm': 2.8964452743530273, 'learning_rate': 7.972491085073867e-06, 'epoch': 2.57}\n",
      "{'loss': 0.305, 'grad_norm': 10.275164604187012, 'learning_rate': 6.698930208863984e-06, 'epoch': 2.64}\n",
      "{'loss': 0.3724, 'grad_norm': 11.523286819458008, 'learning_rate': 5.425369332654101e-06, 'epoch': 2.7}\n",
      "{'loss': 0.3326, 'grad_norm': 6.890936851501465, 'learning_rate': 4.151808456444218e-06, 'epoch': 2.77}\n",
      "{'loss': 0.3613, 'grad_norm': 4.232987880706787, 'learning_rate': 2.8782475802343355e-06, 'epoch': 2.84}\n",
      "{'loss': 0.3546, 'grad_norm': 11.21405029296875, 'learning_rate': 1.6046867040244523e-06, 'epoch': 2.91}\n",
      "{'loss': 0.2978, 'grad_norm': 9.396025657653809, 'learning_rate': 3.3112582781456954e-07, 'epoch': 2.98}\n",
      "{'train_runtime': 7403.6048, 'train_samples_per_second': 4.67, 'train_steps_per_second': 0.292, 'train_loss': 0.5288746470496768, 'epoch': 3.0}\n",
      "Тренування завершено ✅\n"
     ]
    },
    {
     "data": {
      "application/vnd.jupyter.widget-view+json": {
       "model_id": "23875897d52442239eda4d9da947ac7b",
       "version_major": 2,
       "version_minor": 0
      },
      "text/plain": [
       "  0%|          | 0/40 [00:00<?, ?it/s]"
      ]
     },
     "metadata": {},
     "output_type": "display_data"
    },
    {
     "name": "stdout",
     "output_type": "stream",
     "text": [
      "\n",
      "Результати на тестовому датасеті:\n",
      "Accuracy: 0.6212\n",
      "F1: 0.6690\n",
      "Precision: 0.6590\n",
      "Recall: 0.6793\n"
     ]
    }
   ],
   "source": [
    "model_name = \"distilbert-base-uncased\"\n",
    "tokenizer = AutoTokenizer.from_pretrained(model_name)\n",
    "train_texts = train_df['statement'].tolist()\n",
    "train_labels = train_df['binary_label'].tolist()\n",
    "valid_texts = valid_df['statement'].tolist()\n",
    "valid_labels = valid_df['binary_label'].tolist()\n",
    "full_texts = train_texts + valid_texts\n",
    "full_labels = train_labels + valid_labels\n",
    "\n",
    "full_encodings = tokenizer(full_texts, truncation=True, padding=True, max_length=128)\n",
    "\n",
    "class FakeNewsDataset(torch.utils.data.Dataset):\n",
    "    def __init__(self, encodings, labels):\n",
    "        self.encodings = encodings\n",
    "        self.labels = labels\n",
    "\n",
    "    def __getitem__(self, idx):\n",
    "        item = {key: torch.tensor(val[idx]) for key, val in self.encodings.items()}\n",
    "        item['labels'] = torch.tensor(self.labels[idx])\n",
    "        return item\n",
    "\n",
    "    def __len__(self):\n",
    "        return len(self.labels)\n",
    "\n",
    "full_dataset = FakeNewsDataset(full_encodings, full_labels)\n",
    "\n",
    "class WeightedTrainer(Trainer):\n",
    "    def __init__(self, class_weights=None, *args, **kwargs):\n",
    "        super().__init__(*args, **kwargs)\n",
    "        if class_weights is not None:\n",
    "            self.class_weights = class_weights.to(self.args.device)\n",
    "        else:\n",
    "            self.class_weights = None\n",
    "\n",
    "    def compute_loss(self, model, inputs, return_outputs=False, num_items_in_batch=None):\n",
    "        labels = inputs.pop(\"labels\")\n",
    "        outputs = model(**inputs)\n",
    "        logits = outputs.logits\n",
    "        loss_fct = CrossEntropyLoss(weight=self.class_weights)\n",
    "        loss = loss_fct(logits, labels)\n",
    "        return (loss, outputs) if return_outputs else loss\n",
    "\n",
    "def compute_metrics(pred):\n",
    "    labels = pred.label_ids\n",
    "    preds = pred.predictions.argmax(-1)\n",
    "    precision, recall, f1, _ = precision_recall_fscore_support(labels, preds, average='binary')\n",
    "    acc = accuracy_score(labels, preds)\n",
    "    return {'accuracy': acc, 'f1': f1, 'precision': precision, 'recall': recall}\n",
    "\n",
    "\n",
    "model = AutoModelForSequenceClassification.from_pretrained(model_name, num_labels=2)\n",
    "counts = Counter(full_labels)\n",
    "class_weights = torch.tensor([1.0 / counts[i] for i in sorted(counts.keys())])\n",
    "\n",
    "training_args = TrainingArguments(\n",
    "    output_dir=f'./results_full',\n",
    "    num_train_epochs=3,\n",
    "    per_device_train_batch_size=16,\n",
    "    per_device_eval_batch_size=32,\n",
    "    warmup_steps=200,\n",
    "    weight_decay=0.01,\n",
    "    logging_dir=f'./logs_full',\n",
    "    logging_steps=50,\n",
    "    save_steps=200,\n",
    "    fp16=True,\n",
    "    report_to=\"none\"\n",
    ")\n",
    "\n",
    "trainer = WeightedTrainer(\n",
    "    model=model,\n",
    "    args=training_args,\n",
    "    train_dataset=full_dataset,\n",
    "    compute_metrics=compute_metrics,\n",
    "    class_weights=class_weights\n",
    ")\n",
    "\n",
    "trainer.train()\n",
    "print(\"Тренування завершено\")\n",
    "test_texts = test_df['statement'].tolist()\n",
    "test_labels = test_df['binary_label'].tolist()\n",
    "test_encodings = tokenizer(test_texts, truncation=True, padding=True, max_length=128)\n",
    "test_dataset = FakeNewsDataset(test_encodings, test_labels)\n",
    "test_results = trainer.evaluate(eval_dataset=test_dataset)\n",
    "print(\"\\nРезультати на тестовому датасеті:\")\n",
    "print(f\"Accuracy: {test_results['eval_accuracy']:.4f}\")\n",
    "print(f\"F1: {test_results['eval_f1']:.4f}\")\n",
    "print(f\"Precision: {test_results['eval_precision']:.4f}\")\n",
    "print(f\"Recall: {test_results['eval_recall']:.4f}\")\n"
   ]
  }
 ],
 "metadata": {
  "kernelspec": {
   "display_name": "Python 3",
   "language": "python",
   "name": "python3"
  },
  "language_info": {
   "codemirror_mode": {
    "name": "ipython",
    "version": 3
   },
   "file_extension": ".py",
   "mimetype": "text/x-python",
   "name": "python",
   "nbconvert_exporter": "python",
   "pygments_lexer": "ipython3",
   "version": "3.11.5"
  }
 },
 "nbformat": 4,
 "nbformat_minor": 5
}
